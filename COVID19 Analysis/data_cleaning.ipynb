{
 "cells": [
  {
   "cell_type": "code",
   "execution_count": 1,
   "id": "independent-heating",
   "metadata": {},
   "outputs": [],
   "source": [
    "# Importing libraries\n",
    "import pandas as pd\n",
    "import numpy as np\n",
    "\n",
    "import datetime as dt\n",
    "from datetime import date\n",
    "\n",
    "import gc"
   ]
  },
  {
   "cell_type": "markdown",
   "id": "deadly-garage",
   "metadata": {},
   "source": [
    "#### Importing data on COVID-19 maintained by [Our World in Data](https://ourworldindata.org/coronavirus)\n",
    "Data Citation:- Hasell, J., Mathieu, E., Beltekian, D. et al. A cross-country database of COVID-19 testing. Sci Data 7, 345 (2020). https://doi.org/10.1038/s41597-020-00688-8"
   ]
  },
  {
   "cell_type": "code",
   "execution_count": 3,
   "id": "positive-avenue",
   "metadata": {},
   "outputs": [
    {
     "data": {
      "text/html": [
       "<div>\n",
       "<style scoped>\n",
       "    .dataframe tbody tr th:only-of-type {\n",
       "        vertical-align: middle;\n",
       "    }\n",
       "\n",
       "    .dataframe tbody tr th {\n",
       "        vertical-align: top;\n",
       "    }\n",
       "\n",
       "    .dataframe thead th {\n",
       "        text-align: right;\n",
       "    }\n",
       "</style>\n",
       "<table border=\"1\" class=\"dataframe\">\n",
       "  <thead>\n",
       "    <tr style=\"text-align: right;\">\n",
       "      <th></th>\n",
       "      <th>iso_code</th>\n",
       "      <th>continent</th>\n",
       "      <th>location</th>\n",
       "      <th>date</th>\n",
       "      <th>total_cases</th>\n",
       "      <th>new_cases</th>\n",
       "      <th>new_cases_smoothed</th>\n",
       "      <th>total_deaths</th>\n",
       "      <th>new_deaths</th>\n",
       "      <th>new_deaths_smoothed</th>\n",
       "      <th>...</th>\n",
       "      <th>gdp_per_capita</th>\n",
       "      <th>extreme_poverty</th>\n",
       "      <th>cardiovasc_death_rate</th>\n",
       "      <th>diabetes_prevalence</th>\n",
       "      <th>female_smokers</th>\n",
       "      <th>male_smokers</th>\n",
       "      <th>handwashing_facilities</th>\n",
       "      <th>hospital_beds_per_thousand</th>\n",
       "      <th>life_expectancy</th>\n",
       "      <th>human_development_index</th>\n",
       "    </tr>\n",
       "  </thead>\n",
       "  <tbody>\n",
       "    <tr>\n",
       "      <th>0</th>\n",
       "      <td>AFG</td>\n",
       "      <td>Asia</td>\n",
       "      <td>Afghanistan</td>\n",
       "      <td>2020-02-24</td>\n",
       "      <td>1.0</td>\n",
       "      <td>1.0</td>\n",
       "      <td>NaN</td>\n",
       "      <td>NaN</td>\n",
       "      <td>NaN</td>\n",
       "      <td>NaN</td>\n",
       "      <td>...</td>\n",
       "      <td>1803.987</td>\n",
       "      <td>NaN</td>\n",
       "      <td>597.029</td>\n",
       "      <td>9.59</td>\n",
       "      <td>NaN</td>\n",
       "      <td>NaN</td>\n",
       "      <td>37.746</td>\n",
       "      <td>0.5</td>\n",
       "      <td>64.83</td>\n",
       "      <td>0.511</td>\n",
       "    </tr>\n",
       "    <tr>\n",
       "      <th>1</th>\n",
       "      <td>AFG</td>\n",
       "      <td>Asia</td>\n",
       "      <td>Afghanistan</td>\n",
       "      <td>2020-02-25</td>\n",
       "      <td>1.0</td>\n",
       "      <td>0.0</td>\n",
       "      <td>NaN</td>\n",
       "      <td>NaN</td>\n",
       "      <td>NaN</td>\n",
       "      <td>NaN</td>\n",
       "      <td>...</td>\n",
       "      <td>1803.987</td>\n",
       "      <td>NaN</td>\n",
       "      <td>597.029</td>\n",
       "      <td>9.59</td>\n",
       "      <td>NaN</td>\n",
       "      <td>NaN</td>\n",
       "      <td>37.746</td>\n",
       "      <td>0.5</td>\n",
       "      <td>64.83</td>\n",
       "      <td>0.511</td>\n",
       "    </tr>\n",
       "    <tr>\n",
       "      <th>2</th>\n",
       "      <td>AFG</td>\n",
       "      <td>Asia</td>\n",
       "      <td>Afghanistan</td>\n",
       "      <td>2020-02-26</td>\n",
       "      <td>1.0</td>\n",
       "      <td>0.0</td>\n",
       "      <td>NaN</td>\n",
       "      <td>NaN</td>\n",
       "      <td>NaN</td>\n",
       "      <td>NaN</td>\n",
       "      <td>...</td>\n",
       "      <td>1803.987</td>\n",
       "      <td>NaN</td>\n",
       "      <td>597.029</td>\n",
       "      <td>9.59</td>\n",
       "      <td>NaN</td>\n",
       "      <td>NaN</td>\n",
       "      <td>37.746</td>\n",
       "      <td>0.5</td>\n",
       "      <td>64.83</td>\n",
       "      <td>0.511</td>\n",
       "    </tr>\n",
       "    <tr>\n",
       "      <th>3</th>\n",
       "      <td>AFG</td>\n",
       "      <td>Asia</td>\n",
       "      <td>Afghanistan</td>\n",
       "      <td>2020-02-27</td>\n",
       "      <td>1.0</td>\n",
       "      <td>0.0</td>\n",
       "      <td>NaN</td>\n",
       "      <td>NaN</td>\n",
       "      <td>NaN</td>\n",
       "      <td>NaN</td>\n",
       "      <td>...</td>\n",
       "      <td>1803.987</td>\n",
       "      <td>NaN</td>\n",
       "      <td>597.029</td>\n",
       "      <td>9.59</td>\n",
       "      <td>NaN</td>\n",
       "      <td>NaN</td>\n",
       "      <td>37.746</td>\n",
       "      <td>0.5</td>\n",
       "      <td>64.83</td>\n",
       "      <td>0.511</td>\n",
       "    </tr>\n",
       "    <tr>\n",
       "      <th>4</th>\n",
       "      <td>AFG</td>\n",
       "      <td>Asia</td>\n",
       "      <td>Afghanistan</td>\n",
       "      <td>2020-02-28</td>\n",
       "      <td>1.0</td>\n",
       "      <td>0.0</td>\n",
       "      <td>NaN</td>\n",
       "      <td>NaN</td>\n",
       "      <td>NaN</td>\n",
       "      <td>NaN</td>\n",
       "      <td>...</td>\n",
       "      <td>1803.987</td>\n",
       "      <td>NaN</td>\n",
       "      <td>597.029</td>\n",
       "      <td>9.59</td>\n",
       "      <td>NaN</td>\n",
       "      <td>NaN</td>\n",
       "      <td>37.746</td>\n",
       "      <td>0.5</td>\n",
       "      <td>64.83</td>\n",
       "      <td>0.511</td>\n",
       "    </tr>\n",
       "  </tbody>\n",
       "</table>\n",
       "<p>5 rows × 59 columns</p>\n",
       "</div>"
      ],
      "text/plain": [
       "  iso_code continent     location        date  total_cases  new_cases  \\\n",
       "0      AFG      Asia  Afghanistan  2020-02-24          1.0        1.0   \n",
       "1      AFG      Asia  Afghanistan  2020-02-25          1.0        0.0   \n",
       "2      AFG      Asia  Afghanistan  2020-02-26          1.0        0.0   \n",
       "3      AFG      Asia  Afghanistan  2020-02-27          1.0        0.0   \n",
       "4      AFG      Asia  Afghanistan  2020-02-28          1.0        0.0   \n",
       "\n",
       "   new_cases_smoothed  total_deaths  new_deaths  new_deaths_smoothed  ...  \\\n",
       "0                 NaN           NaN         NaN                  NaN  ...   \n",
       "1                 NaN           NaN         NaN                  NaN  ...   \n",
       "2                 NaN           NaN         NaN                  NaN  ...   \n",
       "3                 NaN           NaN         NaN                  NaN  ...   \n",
       "4                 NaN           NaN         NaN                  NaN  ...   \n",
       "\n",
       "   gdp_per_capita  extreme_poverty  cardiovasc_death_rate  \\\n",
       "0        1803.987              NaN                597.029   \n",
       "1        1803.987              NaN                597.029   \n",
       "2        1803.987              NaN                597.029   \n",
       "3        1803.987              NaN                597.029   \n",
       "4        1803.987              NaN                597.029   \n",
       "\n",
       "   diabetes_prevalence  female_smokers  male_smokers  handwashing_facilities  \\\n",
       "0                 9.59             NaN           NaN                  37.746   \n",
       "1                 9.59             NaN           NaN                  37.746   \n",
       "2                 9.59             NaN           NaN                  37.746   \n",
       "3                 9.59             NaN           NaN                  37.746   \n",
       "4                 9.59             NaN           NaN                  37.746   \n",
       "\n",
       "   hospital_beds_per_thousand  life_expectancy  human_development_index  \n",
       "0                         0.5            64.83                    0.511  \n",
       "1                         0.5            64.83                    0.511  \n",
       "2                         0.5            64.83                    0.511  \n",
       "3                         0.5            64.83                    0.511  \n",
       "4                         0.5            64.83                    0.511  \n",
       "\n",
       "[5 rows x 59 columns]"
      ]
     },
     "execution_count": 3,
     "metadata": {},
     "output_type": "execute_result"
    }
   ],
   "source": [
    "df = pd.read_csv('https://covid.ourworldindata.org/data/owid-covid-data.csv') #https://covid.ourworldindata.org/data/owid-covid-data.csv\n",
    "df.head()"
   ]
  },
  {
   "cell_type": "code",
   "execution_count": 4,
   "id": "paperback-fifty",
   "metadata": {},
   "outputs": [
    {
     "name": "stdout",
     "output_type": "stream",
     "text": [
      "<class 'pandas.core.frame.DataFrame'>\n",
      "RangeIndex: 78457 entries, 0 to 78456\n",
      "Data columns (total 59 columns):\n",
      " #   Column                                 Non-Null Count  Dtype  \n",
      "---  ------                                 --------------  -----  \n",
      " 0   iso_code                               78457 non-null  object \n",
      " 1   continent                              74625 non-null  object \n",
      " 2   location                               78457 non-null  object \n",
      " 3   date                                   78457 non-null  object \n",
      " 4   total_cases                            76903 non-null  float64\n",
      " 5   new_cases                              76901 non-null  float64\n",
      " 6   new_cases_smoothed                     75900 non-null  float64\n",
      " 7   total_deaths                           67514 non-null  float64\n",
      " 8   new_deaths                             67672 non-null  float64\n",
      " 9   new_deaths_smoothed                    75900 non-null  float64\n",
      " 10  total_cases_per_million                76485 non-null  float64\n",
      " 11  new_cases_per_million                  76483 non-null  float64\n",
      " 12  new_cases_smoothed_per_million         75487 non-null  float64\n",
      " 13  total_deaths_per_million               67109 non-null  float64\n",
      " 14  new_deaths_per_million                 67267 non-null  float64\n",
      " 15  new_deaths_smoothed_per_million        75487 non-null  float64\n",
      " 16  reproduction_rate                      63300 non-null  float64\n",
      " 17  icu_patients                           8139 non-null   float64\n",
      " 18  icu_patients_per_million               8139 non-null   float64\n",
      " 19  hosp_patients                          9750 non-null   float64\n",
      " 20  hosp_patients_per_million              9750 non-null   float64\n",
      " 21  weekly_icu_admissions                  713 non-null    float64\n",
      " 22  weekly_icu_admissions_per_million      713 non-null    float64\n",
      " 23  weekly_hosp_admissions                 1313 non-null   float64\n",
      " 24  weekly_hosp_admissions_per_million     1313 non-null   float64\n",
      " 25  new_tests                              35926 non-null  float64\n",
      " 26  total_tests                            35697 non-null  float64\n",
      " 27  total_tests_per_thousand               35697 non-null  float64\n",
      " 28  new_tests_per_thousand                 35926 non-null  float64\n",
      " 29  new_tests_smoothed                     41098 non-null  float64\n",
      " 30  new_tests_smoothed_per_thousand        41098 non-null  float64\n",
      " 31  positive_rate                          39748 non-null  float64\n",
      " 32  tests_per_case                         39194 non-null  float64\n",
      " 33  tests_units                            42460 non-null  object \n",
      " 34  total_vaccinations                     5892 non-null   float64\n",
      " 35  people_vaccinated                      5318 non-null   float64\n",
      " 36  people_fully_vaccinated                3641 non-null   float64\n",
      " 37  new_vaccinations                       5004 non-null   float64\n",
      " 38  new_vaccinations_smoothed              9208 non-null   float64\n",
      " 39  total_vaccinations_per_hundred         5892 non-null   float64\n",
      " 40  people_vaccinated_per_hundred          5318 non-null   float64\n",
      " 41  people_fully_vaccinated_per_hundred    3641 non-null   float64\n",
      " 42  new_vaccinations_smoothed_per_million  9208 non-null   float64\n",
      " 43  stringency_index                       67174 non-null  float64\n",
      " 44  population                             77968 non-null  float64\n",
      " 45  population_density                     73128 non-null  float64\n",
      " 46  median_age                             70956 non-null  float64\n",
      " 47  aged_65_older                          70142 non-null  float64\n",
      " 48  aged_70_older                          70557 non-null  float64\n",
      " 49  gdp_per_capita                         71228 non-null  float64\n",
      " 50  extreme_poverty                        48582 non-null  float64\n",
      " 51  cardiovasc_death_rate                  71829 non-null  float64\n",
      " 52  diabetes_prevalence                    72776 non-null  float64\n",
      " 53  female_smokers                         56406 non-null  float64\n",
      " 54  male_smokers                           55578 non-null  float64\n",
      " 55  handwashing_facilities                 36062 non-null  float64\n",
      " 56  hospital_beds_per_thousand             65681 non-null  float64\n",
      " 57  life_expectancy                        74481 non-null  float64\n",
      " 58  human_development_index                71771 non-null  float64\n",
      "dtypes: float64(54), object(5)\n",
      "memory usage: 35.3+ MB\n"
     ]
    }
   ],
   "source": [
    "# Looking for shape of data, data columns, and data types\n",
    "df.info()"
   ]
  },
  {
   "cell_type": "markdown",
   "id": "shaped-grounds",
   "metadata": {},
   "source": [
    "### 1. Data Pre-processing"
   ]
  },
  {
   "cell_type": "markdown",
   "id": "together-gazette",
   "metadata": {},
   "source": [
    "<b>1. Datetime datatype for date column<b/>"
   ]
  },
  {
   "cell_type": "code",
   "execution_count": 5,
   "id": "alive-policy",
   "metadata": {},
   "outputs": [],
   "source": [
    "# Converting data column format from object to datetime\n",
    "df.date=pd.to_datetime(df.date)\n",
    "# df['year'] = df['date'].dt.year\n",
    "# df['month'] = df['date'].dt.month\n",
    "# df['day'] = df['date'].dt.day"
   ]
  },
  {
   "cell_type": "markdown",
   "id": "confidential-lightweight",
   "metadata": {},
   "source": [
    "<b>2. Dropping duplicate rows if any<b/>"
   ]
  },
  {
   "cell_type": "code",
   "execution_count": 6,
   "id": "green-celebration",
   "metadata": {},
   "outputs": [
    {
     "name": "stdout",
     "output_type": "stream",
     "text": [
      "0\n"
     ]
    }
   ],
   "source": [
    "# Checking for duplicate rows\n",
    "print(df.duplicated().sum())\n",
    "df.drop_duplicates(inplace=True, ignore_index=True)"
   ]
  },
  {
   "cell_type": "markdown",
   "id": "variable-reading",
   "metadata": {},
   "source": [
    "<b>3. Removing countries/locations with no data entry for confirmed cases<b/>"
   ]
  },
  {
   "cell_type": "code",
   "execution_count": 7,
   "id": "expanded-black",
   "metadata": {},
   "outputs": [
    {
     "name": "stdout",
     "output_type": "stream",
     "text": [
      "Total Locations : 215\n",
      "Null Locations : ['Anguilla', 'Bermuda', 'Cayman Islands', 'Faeroe Islands', 'Falkland Islands', 'Gibraltar', 'Greenland', 'Guernsey', 'Hong Kong', 'Isle of Man', 'Jersey', 'Macao', 'Montserrat', 'Northern Cyprus', 'Saint Helena', 'Turks and Caicos Islands']\n",
      "Total Locations : 199\n"
     ]
    }
   ],
   "source": [
    "# Looking for countries with no single data on total cases and dropping them\n",
    "\n",
    "print('Total Locations : {}'.format(str(df.location.nunique())))\n",
    "\n",
    "null_countries=[]\n",
    "for country in df['location'].unique():\n",
    "    if df[df['location']==country]['total_cases'].notna().sum()==0:\n",
    "        null_countries.append(country)\n",
    "print('Null Locations :',null_countries)\n",
    "\n",
    "df = df[~df.location.isin(null_countries)]\n",
    "\n",
    "del null_countries\n",
    "\n",
    "print('Total Locations :', df.location.nunique())"
   ]
  },
  {
   "cell_type": "markdown",
   "id": "continued-cedar",
   "metadata": {},
   "source": [
    "<B>4. Removing unnecessary columns<b/>"
   ]
  },
  {
   "cell_type": "code",
   "execution_count": 8,
   "id": "affiliated-confidentiality",
   "metadata": {},
   "outputs": [],
   "source": [
    "cols = ['new_cases_smoothed','new_deaths_smoothed','new_cases_smoothed_per_million','new_deaths_smoothed_per_million','icu_patients',\n",
    "        'icu_patients_per_million', 'hosp_patients','hosp_patients_per_million', 'weekly_icu_admissions','weekly_icu_admissions_per_million', \n",
    "        'weekly_hosp_admissions','weekly_hosp_admissions_per_million','new_tests', 'total_tests', 'total_tests_per_thousand', 'new_tests_per_thousand',\n",
    "       'new_tests_smoothed', 'new_tests_smoothed_per_thousand', 'positive_rate', 'tests_per_case','tests_units', \n",
    "        'total_vaccinations','people_vaccinated', 'people_fully_vaccinated', 'new_vaccinations',\n",
    "       'new_vaccinations_smoothed', 'total_vaccinations_per_hundred','people_vaccinated_per_hundred', 'people_fully_vaccinated_per_hundred',\n",
    "       'new_vaccinations_smoothed_per_million', 'extreme_poverty','handwashing_facilities']"
   ]
  },
  {
   "cell_type": "code",
   "execution_count": 9,
   "id": "documentary-boating",
   "metadata": {},
   "outputs": [],
   "source": [
    "# Dropping unnecessary columns\n",
    "df=df.drop(columns=cols,axis=1)\n",
    "df.reset_index(drop=True, inplace=True)\n",
    "\n",
    "del cols"
   ]
  },
  {
   "cell_type": "markdown",
   "id": "latter-greece",
   "metadata": {},
   "source": [
    "<b>5. Dealing with null values<b/>"
   ]
  },
  {
   "cell_type": "code",
   "execution_count": 10,
   "id": "thirty-october",
   "metadata": {},
   "outputs": [],
   "source": [
    "# df.info()"
   ]
  },
  {
   "cell_type": "markdown",
   "id": "twelve-intervention",
   "metadata": {},
   "source": [
    "* Imputing null daily new cases and new deaths cells with zero:"
   ]
  },
  {
   "cell_type": "code",
   "execution_count": 11,
   "id": "removable-fisher",
   "metadata": {},
   "outputs": [],
   "source": [
    "# Filling zero values for new cases and new deaths columns\n",
    "\n",
    "df['new_cases'].fillna(0, inplace=True)\n",
    "df['new_deaths'].fillna(0,inplace=True)"
   ]
  },
  {
   "cell_type": "markdown",
   "id": "instrumental-lounge",
   "metadata": {},
   "source": [
    "* Imputing null values in total_cases and total_deaths column using below formuls:*\n",
    "\n",
    ">* If previous row location equals current row location, imputing with addition of previous row total_cases (total_deaths) and current row new_cases (new_deaths) \n",
    "\n",
    ">* If it's a first entry for a location, imputing with new_cases (new_deaths) values\n"
   ]
  },
  {
   "cell_type": "code",
   "execution_count": 12,
   "id": "missing-wedding",
   "metadata": {},
   "outputs": [],
   "source": [
    "# Dealing with empty values in total cases and total deaths columns\n",
    "\n",
    "# Restting index before dealing with df through index\n",
    "df.reset_index(drop=True, inplace=True)\n",
    "\n",
    "for index, row in df.iterrows():\n",
    "    if pd.isnull(row['total_cases']):\n",
    "        if index==0 or (df.iat[index,2]) != (df.iat[index-1,2]):\n",
    "            df.iat[index,4]=df.iat[index,5]\n",
    "        elif df.iat[index,2]==df.iat[index-1,2]:\n",
    "            df.iat[index,4] = np.nansum([df.iat[index-1,4], df.iat[index,5]])\n",
    "        \n",
    "            \n",
    "    if pd.isnull(row['total_deaths']):\n",
    "        if index==0 or (df.iat[index,2]) != (df.iat[index-1,2]):\n",
    "            df.iat[index,6]=df.iat[index,7]\n",
    "\n",
    "        elif df.iat[index,2]==df.iat[index-1,2]:\n",
    "            df.iat[index,6]= np.nansum([df.iat[index-1,6] + df.iat[index,7]])"
   ]
  },
  {
   "cell_type": "code",
   "execution_count": 13,
   "id": "square-pharmaceutical",
   "metadata": {},
   "outputs": [],
   "source": [
    "# df.info()"
   ]
  },
  {
   "cell_type": "markdown",
   "id": "northern-country",
   "metadata": {},
   "source": [
    "* Probing into population and location data to deal with incidence rate values"
   ]
  },
  {
   "cell_type": "code",
   "execution_count": 14,
   "id": "competitive-means",
   "metadata": {},
   "outputs": [
    {
     "data": {
      "text/plain": [
       "array(['International'], dtype=object)"
      ]
     },
     "execution_count": 14,
     "metadata": {},
     "output_type": "execute_result"
    }
   ],
   "source": [
    "df[df.population.isnull()]['location'].unique()"
   ]
  },
  {
   "cell_type": "code",
   "execution_count": 15,
   "id": "published-universal",
   "metadata": {},
   "outputs": [],
   "source": [
    "# International data\n",
    "intl = df[df['location']=='International'].copy()\n",
    "intl.drop(columns=['continent'], inplace=True)\n",
    "intl.reset_index(drop=True, inplace=True)\n",
    "\n",
    "df = df[df.location!='International']\n",
    "df.reset_index(drop=True, inplace=True)\n",
    "\n",
    "del intl"
   ]
  },
  {
   "cell_type": "code",
   "execution_count": 16,
   "id": "several-marks",
   "metadata": {},
   "outputs": [],
   "source": [
    "# df.info()"
   ]
  },
  {
   "cell_type": "markdown",
   "id": "israeli-boxing",
   "metadata": {},
   "source": [
    "* Calculating incidence rates"
   ]
  },
  {
   "cell_type": "code",
   "execution_count": 17,
   "id": "supreme-indonesia",
   "metadata": {},
   "outputs": [],
   "source": [
    "for i, row in df.iterrows():\n",
    "    if pd.isnull(row['total_cases_per_million']):\n",
    "        df.iat[i,8]=((df.iat[i,4]/df.iat[i,14])*1000000).round(3)\n",
    "        \n",
    "    if pd.isnull(row['new_cases_per_million']):\n",
    "        df.iat[i,9]=((df.iat[i,5]/df.iat[i,14])*1000000).round(3)\n",
    "        \n",
    "    if pd.isnull(row['total_deaths_per_million']):\n",
    "        df.iat[i,10]=((df.iat[i,6]/df.iat[i,14])*1000000).round(3)\n",
    "        \n",
    "    if pd.isnull(row['new_deaths_per_million']):\n",
    "        df.iat[i,11]=((df.iat[i,7]/df.iat[i,14])*1000000).round(3)\n",
    "    "
   ]
  },
  {
   "cell_type": "code",
   "execution_count": 18,
   "id": "computational-white",
   "metadata": {},
   "outputs": [],
   "source": [
    "# df.info()"
   ]
  },
  {
   "cell_type": "markdown",
   "id": "instrumental-display",
   "metadata": {},
   "source": [
    "* Confirming locations and segregating data for location wise time series data and continent wise aggregated time-series data"
   ]
  },
  {
   "cell_type": "code",
   "execution_count": 19,
   "id": "ethical-skating",
   "metadata": {},
   "outputs": [
    {
     "data": {
      "text/plain": [
       "array(['AFG', 'OWID_AFR', 'ALB', 'DZA', 'AND', 'AGO', 'ATG', 'ARG', 'ARM',\n",
       "       'OWID_ASI', 'AUS', 'AUT', 'AZE', 'BHS', 'BHR', 'BGD', 'BRB', 'BLR',\n",
       "       'BEL', 'BLZ', 'BEN', 'BTN', 'BOL', 'BIH', 'BWA', 'BRA', 'BRN',\n",
       "       'BGR', 'BFA', 'BDI', 'KHM', 'CMR', 'CAN', 'CPV', 'CAF', 'TCD',\n",
       "       'CHL', 'CHN', 'COL', 'COM', 'COG', 'CRI', 'CIV', 'HRV', 'CUB',\n",
       "       'CYP', 'CZE', 'COD', 'DNK', 'DJI', 'DMA', 'DOM', 'ECU', 'EGY',\n",
       "       'SLV', 'GNQ', 'ERI', 'EST', 'SWZ', 'ETH', 'OWID_EUR', 'OWID_EUN',\n",
       "       'FJI', 'FIN', 'FRA', 'GAB', 'GMB', 'GEO', 'DEU', 'GHA', 'GRC',\n",
       "       'GRD', 'GTM', 'GIN', 'GNB', 'GUY', 'HTI', 'HND', 'HUN', 'ISL',\n",
       "       'IND', 'IDN', 'IRN', 'IRQ', 'IRL', 'ISR', 'ITA', 'JAM', 'JPN',\n",
       "       'JOR', 'KAZ', 'KEN', 'OWID_KOS', 'KWT', 'KGZ', 'LAO', 'LVA', 'LBN',\n",
       "       'LSO', 'LBR', 'LBY', 'LIE', 'LTU', 'LUX', 'MDG', 'MWI', 'MYS',\n",
       "       'MDV', 'MLI', 'MLT', 'MHL', 'MRT', 'MUS', 'MEX', 'FSM', 'MDA',\n",
       "       'MCO', 'MNG', 'MNE', 'MAR', 'MOZ', 'MMR', 'NAM', 'NPL', 'NLD',\n",
       "       'NZL', 'NIC', 'NER', 'NGA', 'OWID_NAM', 'MKD', 'NOR', 'OWID_OCE',\n",
       "       'OMN', 'PAK', 'PSE', 'PAN', 'PNG', 'PRY', 'PER', 'PHL', 'POL',\n",
       "       'PRT', 'QAT', 'ROU', 'RUS', 'RWA', 'KNA', 'LCA', 'VCT', 'WSM',\n",
       "       'SMR', 'STP', 'SAU', 'SEN', 'SRB', 'SYC', 'SLE', 'SGP', 'SVK',\n",
       "       'SVN', 'SLB', 'SOM', 'ZAF', 'OWID_SAM', 'KOR', 'SSD', 'ESP', 'LKA',\n",
       "       'SDN', 'SUR', 'SWE', 'CHE', 'SYR', 'TWN', 'TJK', 'TZA', 'THA',\n",
       "       'TLS', 'TGO', 'TTO', 'TUN', 'TUR', 'UGA', 'UKR', 'ARE', 'GBR',\n",
       "       'USA', 'URY', 'UZB', 'VUT', 'VAT', 'VEN', 'VNM', 'OWID_WRL', 'YEM',\n",
       "       'ZMB', 'ZWE'], dtype=object)"
      ]
     },
     "execution_count": 19,
     "metadata": {},
     "output_type": "execute_result"
    }
   ],
   "source": [
    "df['iso_code'].unique()"
   ]
  },
  {
   "cell_type": "code",
   "execution_count": 20,
   "id": "numeric-binding",
   "metadata": {},
   "outputs": [
    {
     "data": {
      "text/plain": [
       "array(['Asia', nan, 'Europe', 'Africa', 'North America', 'South America',\n",
       "       'Oceania'], dtype=object)"
      ]
     },
     "execution_count": 20,
     "metadata": {},
     "output_type": "execute_result"
    }
   ],
   "source": [
    "df['continent'].unique()"
   ]
  },
  {
   "cell_type": "code",
   "execution_count": 21,
   "id": "attractive-switch",
   "metadata": {},
   "outputs": [
    {
     "data": {
      "text/plain": [
       "array(['OWID_AFR', 'OWID_ASI', 'OWID_EUR', 'OWID_EUN', 'OWID_NAM',\n",
       "       'OWID_OCE', 'OWID_SAM', 'OWID_WRL'], dtype=object)"
      ]
     },
     "execution_count": 21,
     "metadata": {},
     "output_type": "execute_result"
    }
   ],
   "source": [
    "df[df['continent'].isnull()]['iso_code'].unique()"
   ]
  },
  {
   "cell_type": "code",
   "execution_count": 22,
   "id": "directed-salvation",
   "metadata": {},
   "outputs": [
    {
     "name": "stdout",
     "output_type": "stream",
     "text": [
      "['Europe']\n",
      "['Kosovo']\n"
     ]
    }
   ],
   "source": [
    "print(df[df['iso_code']=='OWID_KOS']['continent'].unique())\n",
    "print(df[df['iso_code']=='OWID_KOS']['location'].unique())"
   ]
  },
  {
   "cell_type": "markdown",
   "id": "catholic-english",
   "metadata": {},
   "source": [
    "Source: Wikipedia\n",
    "<br>\n",
    "> Kosovo officially the Republic of Kosovo is a partially-recognised state and disputed territory in Southeastern Europe."
   ]
  },
  {
   "cell_type": "code",
   "execution_count": 23,
   "id": "first-robert",
   "metadata": {},
   "outputs": [
    {
     "data": {
      "text/plain": [
       "array([nan], dtype=object)"
      ]
     },
     "execution_count": 23,
     "metadata": {},
     "output_type": "execute_result"
    }
   ],
   "source": [
    "iso = ['OWID_AFR','OWID_ASI','OWID_EUR','OWID_EUN',\n",
    "       'OWID_INT','OWID_NAM','OWID_OCE','OWID_SAM','OWID_WRL']\n",
    "df[df['iso_code'].isin(iso)]['continent'].unique()"
   ]
  },
  {
   "cell_type": "code",
   "execution_count": 24,
   "id": "completed-sacrifice",
   "metadata": {},
   "outputs": [
    {
     "data": {
      "text/plain": [
       "array(['Africa', 'Asia', 'Europe', 'European Union', 'North America',\n",
       "       'Oceania', 'South America', 'World'], dtype=object)"
      ]
     },
     "execution_count": 24,
     "metadata": {},
     "output_type": "execute_result"
    }
   ],
   "source": [
    "df[df['iso_code'].isin(iso)]['location'].unique()"
   ]
  },
  {
   "cell_type": "code",
   "execution_count": 25,
   "id": "atmospheric-vietnamese",
   "metadata": {},
   "outputs": [],
   "source": [
    "continents = ['Africa', 'Asia', 'Europe','North America', 'Oceania', 'South America']"
   ]
  },
  {
   "cell_type": "code",
   "execution_count": 26,
   "id": "built-underground",
   "metadata": {},
   "outputs": [],
   "source": [
    "# Data on world\n",
    "world = df[df['location']=='World'].copy()\n",
    "world.drop(columns=['continent'], inplace=True)\n",
    "world.reset_index(drop=True, inplace=True)\n",
    "\n",
    "# Continent-specific data\n",
    "conti = df[df['location'].isin(continents)].copy()\n",
    "conti.drop(columns=['continent'], inplace=True)\n",
    "conti.reset_index(drop=True, inplace=True)\n",
    "\n",
    "# European-Union specific data\n",
    "eu_un = df[df['location']=='European Union'].copy()\n",
    "eu_un.drop(columns=['continent'], inplace=True)\n",
    "eu_un.reset_index(drop=True, inplace=True)"
   ]
  },
  {
   "cell_type": "code",
   "execution_count": 27,
   "id": "compact-oregon",
   "metadata": {},
   "outputs": [
    {
     "name": "stdout",
     "output_type": "stream",
     "text": [
      "<class 'pandas.core.frame.DataFrame'>\n",
      "RangeIndex: 434 entries, 0 to 433\n",
      "Data columns (total 26 columns):\n",
      " #   Column                      Non-Null Count  Dtype         \n",
      "---  ------                      --------------  -----         \n",
      " 0   iso_code                    434 non-null    object        \n",
      " 1   location                    434 non-null    object        \n",
      " 2   date                        434 non-null    datetime64[ns]\n",
      " 3   total_cases                 434 non-null    float64       \n",
      " 4   new_cases                   434 non-null    float64       \n",
      " 5   total_deaths                434 non-null    float64       \n",
      " 6   new_deaths                  434 non-null    float64       \n",
      " 7   total_cases_per_million     434 non-null    float64       \n",
      " 8   new_cases_per_million       434 non-null    float64       \n",
      " 9   total_deaths_per_million    434 non-null    float64       \n",
      " 10  new_deaths_per_million      434 non-null    float64       \n",
      " 11  reproduction_rate           432 non-null    float64       \n",
      " 12  stringency_index            0 non-null      float64       \n",
      " 13  population                  434 non-null    float64       \n",
      " 14  population_density          434 non-null    float64       \n",
      " 15  median_age                  434 non-null    float64       \n",
      " 16  aged_65_older               434 non-null    float64       \n",
      " 17  aged_70_older               434 non-null    float64       \n",
      " 18  gdp_per_capita              434 non-null    float64       \n",
      " 19  cardiovasc_death_rate       434 non-null    float64       \n",
      " 20  diabetes_prevalence         434 non-null    float64       \n",
      " 21  female_smokers              434 non-null    float64       \n",
      " 22  male_smokers                434 non-null    float64       \n",
      " 23  hospital_beds_per_thousand  434 non-null    float64       \n",
      " 24  life_expectancy             434 non-null    float64       \n",
      " 25  human_development_index     434 non-null    float64       \n",
      "dtypes: datetime64[ns](1), float64(23), object(2)\n",
      "memory usage: 88.3+ KB\n"
     ]
    }
   ],
   "source": [
    "world.info()\n",
    "# conti.info()\n",
    "# eu_un.info()"
   ]
  },
  {
   "cell_type": "code",
   "execution_count": 28,
   "id": "finite-deadline",
   "metadata": {},
   "outputs": [],
   "source": [
    "cols = ['reproduction_rate', 'stringency_index','population_density', 'median_age', 'aged_65_older',\n",
    "       'aged_70_older', 'gdp_per_capita', 'cardiovasc_death_rate','diabetes_prevalence', 'female_smokers', 'male_smokers',\n",
    "       'hospital_beds_per_thousand', 'life_expectancy','human_development_index']\n",
    "\n",
    "conti.drop(columns=cols, inplace=True)\n",
    "conti.reset_index(drop=True, inplace=True)\n",
    "\n",
    "eu_un.drop(columns=cols, inplace=True)\n",
    "eu_un.reset_index(drop=True, inplace=True)"
   ]
  },
  {
   "cell_type": "code",
   "execution_count": 29,
   "id": "blind-theory",
   "metadata": {},
   "outputs": [
    {
     "name": "stdout",
     "output_type": "stream",
     "text": [
      "<class 'pandas.core.frame.DataFrame'>\n",
      "RangeIndex: 73613 entries, 0 to 73612\n",
      "Data columns (total 27 columns):\n",
      " #   Column                      Non-Null Count  Dtype         \n",
      "---  ------                      --------------  -----         \n",
      " 0   iso_code                    73613 non-null  object        \n",
      " 1   continent                   73613 non-null  object        \n",
      " 2   location                    73613 non-null  object        \n",
      " 3   date                        73613 non-null  datetime64[ns]\n",
      " 4   total_cases                 73613 non-null  float64       \n",
      " 5   new_cases                   73613 non-null  float64       \n",
      " 6   total_deaths                73613 non-null  float64       \n",
      " 7   new_deaths                  73613 non-null  float64       \n",
      " 8   total_cases_per_million     73613 non-null  float64       \n",
      " 9   new_cases_per_million       73613 non-null  float64       \n",
      " 10  total_deaths_per_million    73613 non-null  float64       \n",
      " 11  new_deaths_per_million      73613 non-null  float64       \n",
      " 12  reproduction_rate           62868 non-null  float64       \n",
      " 13  stringency_index            66862 non-null  float64       \n",
      " 14  population                  73613 non-null  float64       \n",
      " 15  population_density          72049 non-null  float64       \n",
      " 16  median_age                  70362 non-null  float64       \n",
      " 17  aged_65_older               69548 non-null  float64       \n",
      " 18  aged_70_older               69963 non-null  float64       \n",
      " 19  gdp_per_capita              70463 non-null  float64       \n",
      " 20  cardiovasc_death_rate       71284 non-null  float64       \n",
      " 21  diabetes_prevalence         72027 non-null  float64       \n",
      " 22  female_smokers              55972 non-null  float64       \n",
      " 23  male_smokers                55144 non-null  float64       \n",
      " 24  hospital_beds_per_thousand  65247 non-null  float64       \n",
      " 25  life_expectancy             73231 non-null  float64       \n",
      " 26  human_development_index     71227 non-null  float64       \n",
      "dtypes: datetime64[ns](1), float64(23), object(3)\n",
      "memory usage: 15.2+ MB\n"
     ]
    }
   ],
   "source": [
    "df=df[~df['iso_code'].isin(iso)]\n",
    "df.reset_index(inplace=True,drop=True)\n",
    "\n",
    "del continents, iso, cols\n",
    "df.info()"
   ]
  },
  {
   "cell_type": "code",
   "execution_count": 30,
   "id": "peaceful-encounter",
   "metadata": {},
   "outputs": [
    {
     "data": {
      "text/plain": [
       "190"
      ]
     },
     "execution_count": 30,
     "metadata": {},
     "output_type": "execute_result"
    }
   ],
   "source": [
    "df['location'].nunique()"
   ]
  },
  {
   "cell_type": "code",
   "execution_count": 31,
   "id": "alternative-arkansas",
   "metadata": {},
   "outputs": [
    {
     "data": {
      "text/plain": [
       "44"
      ]
     },
     "execution_count": 31,
     "metadata": {},
     "output_type": "execute_result"
    }
   ],
   "source": [
    "gc.collect()"
   ]
  },
  {
   "cell_type": "markdown",
   "id": "banned-capacity",
   "metadata": {},
   "source": [
    "* Separate dataset for country specific indicatiors and updated COVID-19 current status"
   ]
  },
  {
   "cell_type": "code",
   "execution_count": 32,
   "id": "thirty-personality",
   "metadata": {},
   "outputs": [],
   "source": [
    "i = ['population', 'population_density', 'median_age', 'aged_65_older',\n",
    "       'aged_70_older', 'gdp_per_capita', 'cardiovasc_death_rate',\n",
    "       'diabetes_prevalence', 'female_smokers', 'male_smokers',\n",
    "       'hospital_beds_per_thousand', 'life_expectancy',\n",
    "       'human_development_index']\n",
    "\n",
    "countries = df.groupby(by=['location'], as_index=False)[i].max()\n",
    "\n",
    "df.drop(columns=i, inplace=True)\n",
    "df.reset_index(drop=True, inplace=True)\n",
    "\n",
    "df1=df[df['date']==df.date.max()].copy()\n",
    "\n",
    "countries = countries.merge(df1, how='left', on='location')\n",
    "\n",
    "del i"
   ]
  },
  {
   "cell_type": "markdown",
   "id": "outer-peace",
   "metadata": {},
   "source": [
    "* Creating a column for Case Fatality Rate calculated by:\n",
    ">(Total Deaths per Million / Total Cases Per Million) * 100"
   ]
  },
  {
   "cell_type": "code",
   "execution_count": 33,
   "id": "african-father",
   "metadata": {},
   "outputs": [],
   "source": [
    "df['cfr']=(df['total_deaths_per_million']/df['total_cases_per_million']) * 100"
   ]
  },
  {
   "cell_type": "code",
   "execution_count": 34,
   "id": "preceding-strain",
   "metadata": {},
   "outputs": [],
   "source": [
    "countries['cfr']=(countries['total_deaths_per_million']/countries['total_cases_per_million']) * 100"
   ]
  },
  {
   "cell_type": "code",
   "execution_count": 35,
   "id": "velvet-alignment",
   "metadata": {},
   "outputs": [],
   "source": [
    "world['cfr']=(world['total_deaths_per_million']/world['total_cases_per_million']) * 100"
   ]
  },
  {
   "cell_type": "code",
   "execution_count": 36,
   "id": "cardiac-wayne",
   "metadata": {},
   "outputs": [],
   "source": [
    "df.to_csv('all.csv', index=False)\n",
    "world.to_csv('world.csv', index=False)\n",
    "conti.to_csv('continents.csv', index=False)\n",
    "countries.to_csv('parameters.csv', index=False)"
   ]
  }
 ],
 "metadata": {
  "kernelspec": {
   "display_name": "Python 3",
   "language": "python",
   "name": "python3"
  },
  "language_info": {
   "codemirror_mode": {
    "name": "ipython",
    "version": 3
   },
   "file_extension": ".py",
   "mimetype": "text/x-python",
   "name": "python",
   "nbconvert_exporter": "python",
   "pygments_lexer": "ipython3",
   "version": "3.7.9"
  }
 },
 "nbformat": 4,
 "nbformat_minor": 5
}
